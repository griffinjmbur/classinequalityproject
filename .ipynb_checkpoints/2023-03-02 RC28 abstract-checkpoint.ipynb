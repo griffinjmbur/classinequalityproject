{
 "cells": [
  {
   "cell_type": "markdown",
   "id": "56755afc",
   "metadata": {},
   "source": [
    "# Sources of inequality: controlling for class.\n",
    "## Fundamental contribution\n",
    "\n",
    "Social scientists and the broader public have trained their focus on economic inequality as of late. Despite widespread agreement that the trends therein is that of a secular increase spanning the last 50 years, disagreement over the measurement, causes, and effects remains nearly as widespread. This paper offers a contribution to the disagreement over the causes (and, implicitly, to the controversy over measurement) by adjusting statistically for the role of class, which is a relatively neglected factor. Class here means, in nuce, the relation in which individuals stand to one another in the production process, particularly their ownership or not of the means of production. \n",
    "\n",
    "Using rich longitudinal information from the Panel Study of Income Dynamics (PSID), this paper builds on a handful of notable exceptions to the general paucity of research on inequality issued from the class perspective (e.g. Wodtke 2016, Barone *et al*. 2022). It operationalizes inequality as distance of individuals to a high-rank quantile of the income distribution, preserving the high-dimensionality of the data (by conceptualizing \"inequality\" as a property of individuals rather than the by-year variance or dispersion [Sanchez and Marzban 2020]). Then, this criterion is used as an outcome in fixed effects models employing a number of different functional forms, using a number of relevant covariates in addition to class&mdash;educational attainment, family background, tenure, national identity, sex, and region primary among them. \n",
    "\n",
    "## Background\n",
    "\n",
    "Myriad explanations for the growth of economic inequality&mdash;here, broadly meaning income and wealth inequality&mdash;are possible; this paper engages the mainstream literatures in the sociology of stratification  and those of economics, foncusing on explanations which are popular, convincing, or both. At least six prominent sub-literatures exist centered on the preferred *explanans* of the researcher: skill-biased technical change (SBTC) (e.g. Autor and Dorn 2013, Autor, Levy, and Murnane 2003; Autor, Katz, and Kearney 2006), globalization (for a review, Wood 2018), the falling real value of the minimum wage (Lemiuex 2008; Neckerman and Torche 2007; Morris and Western 1999), de-unionization (Western and Rosenfeld 2011), executive compensation practices (DiPrete *et al*. 2010, Piketty and Saez 2003), and changes in the mean income of occupations (Weeden 2002 and Weeden et al. 2007).\n",
    "\n",
    "Yet, relatively little research in this tradition explores class, at least \"class\" in the sense understood by one of the founders of the discipline (if one who would probably reject such attribution), Marx. A few words on the meaning of class in this sense are necessary: many social scientists, not to mention the lay \"educated public\" (if not the public at large), see only semantic squabbling in distinguishing between such concepts as class and income, or class and occupation (Wright 1980). Some of this disagreement is attributable to the fact that the word \"class\" still stirs  powerful political emotions, and there is thus an incentive to attach one's preferred theoretical meaning to this floating signifier (Hall 1997). \n",
    "\n",
    "Whatever one understands by the word \"class\"&mdash;or occupation or merely income (or wealth)&mdash;any social-scientific study of income and wealth must take into account the role of class in Marx's sense: the relationship of individuals to other individuals in the production process. Class, in that sense, is an excellent candidate for inclusion in the design matrix in the regression of inequality as it is both theoretically separate from (and prior to) the concepts of income and wealth, yet it obviously has at least a potentially-close relation to those outcomes of the production process. Yet, little of the stastistical literature on inequality includes this powerful regressor. \n",
    "\n",
    "The reasons for this lack of inclusion are twofold. While class in the narrow sense would not be difficult to measure, 1) most social surveys do not directly ask questions about class in the Marxian sense and 2) the actual class location of individuals is often complicated (Wright 1979, 1985). This does not spell doom for the role of class, however, and for essentially the same reason: it is clear that as far back as Marx himself, the Marxian conception of class can accommodate a notion of class as a spectrum. While the fundamental determinations of capitalist and worker are polar opposites, many individuals both supply productive labor *strictu sensu* and own capital assets. As Gunn (1987) points out, however, it is mainstream sociology which generally prefers to deploy a reductive concept of class, in which all individuals are proletarian, bourgeois, or some admixture (and then, inevitably, most individuals fall into this ill-defined middle category). In fact, independent developments in the social-scientifically-oriented analytical Marxist tradition (e.g. Roemer 1982) and the renewed Hegelian reading of Marx (Murray 2016, Moseley 2016) suggest that while many individuals fall somewhere on the spectrum of worker <&mdash;> capitalist, most individuals in the United States and other capitalist countries are \"net-exploited\", meaning that their total supply of surplus-labor to the capitalist class exceeds the amount that they receive through their holding of capital assets, and most individuals whom a crude Marxism would denote capitalists, though they may indeed supply productive managerial or even manual labor, are \"net exploiters\" for the same reason. The figure from Gunn below elegantly illustrates this point. \n",
    "\n",
    "Fortunately, the tools of classical statistical analysis&mdash;and lately, so-called \"statistical learning\"&mdash;were greatly concerned with the measurement of latent variables. These tools, such as principle component analysis (PCA) and the construction of scales are an elegant solution to this conceptual *and* measurement problem. \n",
    "\n",
    "Using these tools to construct a measure of class which is both a scale but also fundamentally structured by the polar opposition between capital and labor, I enter this measure into a fixed-effects model with the usual adjustments for panel data and carry out post-estimation decompositions of the effects of changes in the distance of individuals to top quantiles, building on the analysis of research such as that of Wodtke (using a suggestion of his), improving in some ways on the the use of GSS data (somewhat unsatisfactory since these data are notoriously  “lumpy” for income, even with midpoint imputation), and a class measure which is subjective.\n",
    "\n",
    "![The Marxian view of class](https://tinyurl.com/gunnclass)"
   ]
  }
 ],
 "metadata": {
  "kernelspec": {
   "display_name": "Python 3 (ipykernel)",
   "language": "python",
   "name": "python3"
  },
  "language_info": {
   "codemirror_mode": {
    "name": "ipython",
    "version": 3
   },
   "file_extension": ".py",
   "mimetype": "text/x-python",
   "name": "python",
   "nbconvert_exporter": "python",
   "pygments_lexer": "ipython3",
   "version": "3.9.13"
  }
 },
 "nbformat": 4,
 "nbformat_minor": 5
}
